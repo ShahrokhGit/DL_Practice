{
 "cells": [
  {
   "cell_type": "markdown",
   "metadata": {},
   "source": [
    "# Bone Data\n",
    "\n",
    "Here I want to start working on my bone dataset.\n",
    "<br> I do not want to spend time describing each feature. \n",
    "<div align = 'right'>\n",
    "    <font size=2>\n",
    "        خب اولین کار اینه که من بیام و داده م رو توی این نون بوک لود کنم تا ببینم که چندتا فیچر دارم. این کار رو با پانداس انجام میدم\n",
    "    </font>\n",
    "    </div>"
   ]
  },
  {
   "cell_type": "code",
   "execution_count": 125,
   "metadata": {},
   "outputs": [
    {
     "data": {
      "text/html": [
       "<div>\n",
       "<style scoped>\n",
       "    .dataframe tbody tr th:only-of-type {\n",
       "        vertical-align: middle;\n",
       "    }\n",
       "\n",
       "    .dataframe tbody tr th {\n",
       "        vertical-align: top;\n",
       "    }\n",
       "\n",
       "    .dataframe thead th {\n",
       "        text-align: right;\n",
       "    }\n",
       "</style>\n",
       "<table border=\"1\" class=\"dataframe\">\n",
       "  <thead>\n",
       "    <tr style=\"text-align: right;\">\n",
       "      <th></th>\n",
       "      <th>Age (y)</th>\n",
       "      <th>sex</th>\n",
       "      <th>Height (m)</th>\n",
       "      <th>wight (kg)</th>\n",
       "      <th>BMI</th>\n",
       "      <th>SOS</th>\n",
       "      <th>BUA</th>\n",
       "      <th>SI</th>\n",
       "      <th>BWC%</th>\n",
       "      <th>T1 (ms)</th>\n",
       "      <th>...</th>\n",
       "      <th>MCH</th>\n",
       "      <th>MCHC</th>\n",
       "      <th>Platelets</th>\n",
       "      <th>FBS</th>\n",
       "      <th>Creatinine</th>\n",
       "      <th>Calcium. Ca</th>\n",
       "      <th>Phosphorus.P</th>\n",
       "      <th>TSH</th>\n",
       "      <th>Ferritin</th>\n",
       "      <th>Vit D</th>\n",
       "    </tr>\n",
       "  </thead>\n",
       "  <tbody>\n",
       "    <tr>\n",
       "      <th>0</th>\n",
       "      <td>30.0</td>\n",
       "      <td>f</td>\n",
       "      <td>1.55</td>\n",
       "      <td>51</td>\n",
       "      <td>21.227888</td>\n",
       "      <td>1546</td>\n",
       "      <td>107</td>\n",
       "      <td>84</td>\n",
       "      <td>3.18</td>\n",
       "      <td>99.2500</td>\n",
       "      <td>...</td>\n",
       "      <td>28.0</td>\n",
       "      <td>32.8</td>\n",
       "      <td>279</td>\n",
       "      <td>84</td>\n",
       "      <td>0.63</td>\n",
       "      <td>9.4</td>\n",
       "      <td>3.60</td>\n",
       "      <td>2.40</td>\n",
       "      <td>30.0</td>\n",
       "      <td>60.0</td>\n",
       "    </tr>\n",
       "    <tr>\n",
       "      <th>1</th>\n",
       "      <td>39.7</td>\n",
       "      <td>f</td>\n",
       "      <td>1.60</td>\n",
       "      <td>72</td>\n",
       "      <td>28.125000</td>\n",
       "      <td>1543</td>\n",
       "      <td>115</td>\n",
       "      <td>89</td>\n",
       "      <td>4.22</td>\n",
       "      <td>143.9389</td>\n",
       "      <td>...</td>\n",
       "      <td>29.3</td>\n",
       "      <td>33.2</td>\n",
       "      <td>242</td>\n",
       "      <td>92</td>\n",
       "      <td>0.82</td>\n",
       "      <td>8.8</td>\n",
       "      <td>2.59</td>\n",
       "      <td>2.01</td>\n",
       "      <td>48.6</td>\n",
       "      <td>38.9</td>\n",
       "    </tr>\n",
       "    <tr>\n",
       "      <th>2</th>\n",
       "      <td>34.3</td>\n",
       "      <td>f</td>\n",
       "      <td>1.54</td>\n",
       "      <td>68</td>\n",
       "      <td>28.672626</td>\n",
       "      <td>1596</td>\n",
       "      <td>115</td>\n",
       "      <td>103</td>\n",
       "      <td>4.50</td>\n",
       "      <td>127.3443</td>\n",
       "      <td>...</td>\n",
       "      <td>31.3</td>\n",
       "      <td>33.4</td>\n",
       "      <td>166</td>\n",
       "      <td>107</td>\n",
       "      <td>0.68</td>\n",
       "      <td>9.4</td>\n",
       "      <td>3.40</td>\n",
       "      <td>2.60</td>\n",
       "      <td>28.7</td>\n",
       "      <td>67.3</td>\n",
       "    </tr>\n",
       "    <tr>\n",
       "      <th>3</th>\n",
       "      <td>35.3</td>\n",
       "      <td>f</td>\n",
       "      <td>1.60</td>\n",
       "      <td>64</td>\n",
       "      <td>25.315454</td>\n",
       "      <td>1600</td>\n",
       "      <td>116</td>\n",
       "      <td>105</td>\n",
       "      <td>4.01</td>\n",
       "      <td>123.8974</td>\n",
       "      <td>...</td>\n",
       "      <td>25.6</td>\n",
       "      <td>32.4</td>\n",
       "      <td>377</td>\n",
       "      <td>95</td>\n",
       "      <td>0.79</td>\n",
       "      <td>9.7</td>\n",
       "      <td>2.90</td>\n",
       "      <td>2.60</td>\n",
       "      <td>29.2</td>\n",
       "      <td>32.5</td>\n",
       "    </tr>\n",
       "    <tr>\n",
       "      <th>4</th>\n",
       "      <td>37.0</td>\n",
       "      <td>f</td>\n",
       "      <td>1.64</td>\n",
       "      <td>62</td>\n",
       "      <td>23.051755</td>\n",
       "      <td>1543</td>\n",
       "      <td>121</td>\n",
       "      <td>93</td>\n",
       "      <td>4.17</td>\n",
       "      <td>133.8113</td>\n",
       "      <td>...</td>\n",
       "      <td>29.7</td>\n",
       "      <td>34.5</td>\n",
       "      <td>256</td>\n",
       "      <td>87</td>\n",
       "      <td>0.80</td>\n",
       "      <td>9.2</td>\n",
       "      <td>3.80</td>\n",
       "      <td>3.10</td>\n",
       "      <td>21.3</td>\n",
       "      <td>57.0</td>\n",
       "    </tr>\n",
       "  </tbody>\n",
       "</table>\n",
       "<p>5 rows × 136 columns</p>\n",
       "</div>"
      ],
      "text/plain": [
       "   Age (y) sex  Height (m)  wight (kg)        BMI   SOS  BUA   SI  BWC%  \\\n",
       "0     30.0   f        1.55          51  21.227888  1546  107   84  3.18   \n",
       "1     39.7   f        1.60          72  28.125000  1543  115   89  4.22   \n",
       "2     34.3   f        1.54          68  28.672626  1596  115  103  4.50   \n",
       "3     35.3   f        1.60          64  25.315454  1600  116  105  4.01   \n",
       "4     37.0   f        1.64          62  23.051755  1543  121   93  4.17   \n",
       "\n",
       "    T1 (ms)  ...   MCH  MCHC  Platelets  FBS  Creatinine  Calcium. Ca  \\\n",
       "0   99.2500  ...  28.0  32.8        279   84        0.63          9.4   \n",
       "1  143.9389  ...  29.3  33.2        242   92        0.82          8.8   \n",
       "2  127.3443  ...  31.3  33.4        166  107        0.68          9.4   \n",
       "3  123.8974  ...  25.6  32.4        377   95        0.79          9.7   \n",
       "4  133.8113  ...  29.7  34.5        256   87        0.80          9.2   \n",
       "\n",
       "   Phosphorus.P   TSH  Ferritin   Vit D  \n",
       "0          3.60  2.40       30.0   60.0  \n",
       "1          2.59  2.01       48.6   38.9  \n",
       "2          3.40  2.60       28.7   67.3  \n",
       "3          2.90  2.60       29.2   32.5  \n",
       "4          3.80  3.10       21.3   57.0  \n",
       "\n",
       "[5 rows x 136 columns]"
      ]
     },
     "execution_count": 125,
     "metadata": {},
     "output_type": "execute_result"
    }
   ],
   "source": [
    "import pandas as pd\n",
    "df = pd.read_excel('Bone_Data.xlsx')\n",
    "df.head()"
   ]
  },
  {
   "cell_type": "code",
   "execution_count": 126,
   "metadata": {},
   "outputs": [
    {
     "data": {
      "text/plain": [
       "(50, 136)"
      ]
     },
     "execution_count": 126,
     "metadata": {},
     "output_type": "execute_result"
    }
   ],
   "source": [
    "df.shape"
   ]
  },
  {
   "cell_type": "code",
   "execution_count": 127,
   "metadata": {},
   "outputs": [
    {
     "data": {
      "text/plain": [
       "Index(['Age (y)', 'sex', 'Height (m)', 'wight (kg)', 'BMI', 'SOS', 'BUA', 'SI',\n",
       "       'BWC%', 'T1 (ms)',\n",
       "       ...\n",
       "       'MCH', 'MCHC', 'Platelets', 'FBS', 'Creatinine', 'Calcium. Ca',\n",
       "       'Phosphorus.P', 'TSH', 'Ferritin ', 'Vit D'],\n",
       "      dtype='object', length=136)"
      ]
     },
     "execution_count": 127,
     "metadata": {},
     "output_type": "execute_result"
    }
   ],
   "source": [
    "df.columns"
   ]
  },
  {
   "cell_type": "code",
   "execution_count": 128,
   "metadata": {},
   "outputs": [
    {
     "data": {
      "text/plain": [
       "<matplotlib.axes._subplots.AxesSubplot at 0x14d229ef0>"
      ]
     },
     "execution_count": 128,
     "metadata": {},
     "output_type": "execute_result"
    },
    {
     "data": {
      "image/png": "[encoded data removed]",
      "text/plain": [
       "<Figure size 432x288 with 1 Axes>"
      ]
     },
     "metadata": {
      "needs_background": "light"
     },
     "output_type": "display_data"
    }
   ],
   "source": [
    "df.boxplot(column=['wight (kg)','BMI','FBS','TSH'])"
   ]
  },
  {
   "cell_type": "markdown",
   "metadata": {},
   "source": [
    "<div align = 'right'>\n",
    "    <font size=2.5>\n",
    "        پس بر اساس این جدولی که الآن آپلود کردم، ۵۰ نفر در مطالعه ی من هستند و من از هر نفر ۱۳۶ تا پارامتر رو اندازه گرفته ام. یعنی ۱۳۶ تا فیچر دارم. \n",
    "        <br> حالا دو تا سوال مطرح می شود. \n",
    "        <br><b>سوال اول</b>\n",
    "        <br>اینه که تو چه پارامتری رو می خوای پیش بینی کنی.؟\n",
    "        <br>خب در حقیقت من می خوام کیفیت استخوان رو بررسی کنم که در این صورت مساله ی من یه مساله ی آن سوپر وایزد لرنینگ میشود. بنابراین من فک میکنم باید بریم به سراغ ری اینفورسمنت لرنینگ \n",
    "        <br> ولی خب من برای اینکه مساله رو ساده تر کنم فرض می کنم که می خوام سن رو پیش بینی کنم بنابراین مساله رو \n",
    "        به مساله ی سوپروایزد تبدیل می کنم\n",
    "        <br><b>سوال دوم</b>\n",
    "        <br> تعداد فیچر ها خیلی زیاده و مطمئن هستیم که تعداد زیادیشون اضافی هستند. بنابراین قدم اول این پروژه اینه که با یه متد فیچر سلکشن فیچر های خوب رو پیدا کنیم\n",
    "        <br> اول دیتایی که داریم رو به صورت زیر تقسیم بندی می کنیم"
   ]
  },
  {
   "cell_type": "code",
   "execution_count": 129,
   "metadata": {},
   "outputs": [
    {
     "name": "stdout",
     "output_type": "stream",
     "text": [
      "Data put aside as unseen data: Size\n",
      "(5, 136)\n",
      "Data for train and test of the model: Size\n",
      "(45, 136)\n"
     ]
    }
   ],
   "source": [
    "bone_data = df.to_numpy()\n",
    "data_unseen = bone_data[45:51,:]\n",
    "data_set_4model = bone_data[:45,:]\n",
    "print('Data put aside as unseen data: Size')\n",
    "print(data_unseen.shape)\n",
    "print('Data for train and test of the model: Size')\n",
    "print(data_set_4model.shape)"
   ]
  },
  {
   "cell_type": "code",
   "execution_count": 130,
   "metadata": {},
   "outputs": [
    {
     "name": "stdout",
     "output_type": "stream",
     "text": [
      "Number of Features (Predictors)\n",
      "135\n",
      "We want to predict AGE\n"
     ]
    }
   ],
   "source": [
    "predictors = data_set_4model[:,1:136]\n",
    "target = data_set_4model[:,0]\n",
    "print('Number of Features (Predictors)')\n",
    "print(predictors.shape[1])\n",
    "print('We want to predict AGE')"
   ]
  },
  {
   "cell_type": "markdown",
   "metadata": {},
   "source": [
    "<div align = 'right'>\n",
    "    <font size=2.5>\n",
    "        در این مرحله یه مدل بسیار ساده رو همینطوری ران میکنیم تا ببینیم که این فیچر ها چطور عمل میکنند. الآن مساله ی من یه مساله ی رگرسیون هست و من با استفاده از دیپ لرنینگ می خوام یه مدل بسازم\n",
    "        <br> \n",
    "        در این جا یه مدل میسازم با فقط یک لایه ی پنهان\n",
    "        <br>\n",
    "        <br> \n",
    "        راستی، قبل از ران کردن مدل باید داده هات رو درست و راست کنی\n",
    "        یعنی داده هایی که به صورت عدد نیستند رو به عدد تبدیل کنی\n",
    "        "
   ]
  },
  {
   "cell_type": "code",
   "execution_count": 131,
   "metadata": {},
   "outputs": [
    {
     "name": "stdout",
     "output_type": "stream",
     "text": [
      "[0 0 0 0 0 0 0 0 0 0]\n"
     ]
    }
   ],
   "source": [
    "for item in predictors:\n",
    "    if item[0] is 'f':\n",
    "        item[0] = 0\n",
    "    else:\n",
    "        item[0]=1\n",
    "\n",
    "print(predictors[0:10,0])"
   ]
  },
  {
   "cell_type": "code",
   "execution_count": 132,
   "metadata": {},
   "outputs": [
    {
     "name": "stdout",
     "output_type": "stream",
     "text": [
      "Train on 36 samples, validate on 9 samples\n",
      "Epoch 1/5\n",
      "36/36 [==============================] - 0s 3ms/step - loss: nan - accuracy: 0.0000e+00 - val_loss: nan - val_accuracy: 0.0000e+00\n",
      "Epoch 2/5\n",
      "36/36 [==============================] - 0s 136us/step - loss: nan - accuracy: 0.0000e+00 - val_loss: nan - val_accuracy: 0.0000e+00\n",
      "Epoch 3/5\n",
      "36/36 [==============================] - 0s 117us/step - loss: nan - accuracy: 0.0000e+00 - val_loss: nan - val_accuracy: 0.0000e+00\n",
      "Epoch 4/5\n",
      "36/36 [==============================] - 0s 141us/step - loss: nan - accuracy: 0.0000e+00 - val_loss: nan - val_accuracy: 0.0000e+00\n",
      "Epoch 5/5\n",
      "36/36 [==============================] - 0s 166us/step - loss: nan - accuracy: 0.0000e+00 - val_loss: nan - val_accuracy: 0.0000e+00\n"
     ]
    },
    {
     "data": {
      "text/plain": [
       "<keras.callbacks.callbacks.History at 0x14fa82ba8>"
      ]
     },
     "execution_count": 132,
     "metadata": {},
     "output_type": "execute_result"
    }
   ],
   "source": [
    "from keras.models import Sequential\n",
    "from keras.layers import Dense\n",
    "\n",
    "n_col = predictors.shape[1]\n",
    "model = Sequential()\n",
    "model.add(Dense(100, activation='relu', input_shape = (n_col,)))\n",
    "model.add(Dense(100, activation='relu'))\n",
    "model.add(Dense(1))\n",
    "\n",
    "model.compile(optimizer='adam', loss='mean_squared_error',metrics=['accuracy'])\n",
    "\n",
    "model.fit(predictors,target,validation_split=0.2,epochs=5)"
   ]
  },
  {
   "cell_type": "markdown",
   "metadata": {},
   "source": [
    "<div align = 'right'>\n",
    "    <font size=2.5>\n",
    "        همه چیز باید ثبت بشه. بنابراین من این مدلی که الآن ران کردم رو عوض نمی کنم\n",
    "        <br> در جواب می بینیم که مقدار های لاس و دقت هر دو نامعلوم هستند.\n",
    "        <br> \n",
    "        تا دانش الآن من، این دوتا معنی می تونه داشته باشه. \n",
    "        <br>یکی اینکه داخل ورودی هات مقدار نامعلوم وجود داره\n",
    "        <br>یا اینکه دلیلش اینه که من داده ها رو نرمالایز نکردم برادر من. یکیش توی محدوده ی صده یکیش توی محدوده ی زیر یکه"
   ]
  },
  {
   "cell_type": "code",
   "execution_count": 133,
   "metadata": {},
   "outputs": [
    {
     "data": {
      "text/plain": [
       "3"
      ]
     },
     "execution_count": 133,
     "metadata": {},
     "output_type": "execute_result"
    }
   ],
   "source": [
    "df.isnull().sum().sum()"
   ]
  },
  {
   "cell_type": "code",
   "execution_count": 134,
   "metadata": {},
   "outputs": [
    {
     "data": {
      "text/html": [
       "<div>\n",
       "<style scoped>\n",
       "    .dataframe tbody tr th:only-of-type {\n",
       "        vertical-align: middle;\n",
       "    }\n",
       "\n",
       "    .dataframe tbody tr th {\n",
       "        vertical-align: top;\n",
       "    }\n",
       "\n",
       "    .dataframe thead th {\n",
       "        text-align: right;\n",
       "    }\n",
       "</style>\n",
       "<table border=\"1\" class=\"dataframe\">\n",
       "  <thead>\n",
       "    <tr style=\"text-align: right;\">\n",
       "      <th></th>\n",
       "      <th>Age (y)</th>\n",
       "      <th>sex</th>\n",
       "      <th>Height (m)</th>\n",
       "      <th>wight (kg)</th>\n",
       "      <th>BMI</th>\n",
       "      <th>SOS</th>\n",
       "      <th>BUA</th>\n",
       "      <th>SI</th>\n",
       "      <th>BWC%</th>\n",
       "      <th>T1 (ms)</th>\n",
       "      <th>...</th>\n",
       "      <th>MCH</th>\n",
       "      <th>MCHC</th>\n",
       "      <th>Platelets</th>\n",
       "      <th>FBS</th>\n",
       "      <th>Creatinine</th>\n",
       "      <th>Calcium. Ca</th>\n",
       "      <th>Phosphorus.P</th>\n",
       "      <th>TSH</th>\n",
       "      <th>Ferritin</th>\n",
       "      <th>Vit D</th>\n",
       "    </tr>\n",
       "  </thead>\n",
       "  <tbody>\n",
       "    <tr>\n",
       "      <th>24</th>\n",
       "      <td>51.0</td>\n",
       "      <td>f</td>\n",
       "      <td>1.64</td>\n",
       "      <td>80</td>\n",
       "      <td>29.744200</td>\n",
       "      <td>1512</td>\n",
       "      <td>98</td>\n",
       "      <td>68</td>\n",
       "      <td>6.04</td>\n",
       "      <td>NaN</td>\n",
       "      <td>...</td>\n",
       "      <td>31.9</td>\n",
       "      <td>34.2</td>\n",
       "      <td>182</td>\n",
       "      <td>95</td>\n",
       "      <td>1.04</td>\n",
       "      <td>9.3</td>\n",
       "      <td>2.8</td>\n",
       "      <td>1.1</td>\n",
       "      <td>30.2</td>\n",
       "      <td>50.1</td>\n",
       "    </tr>\n",
       "    <tr>\n",
       "      <th>29</th>\n",
       "      <td>31.1</td>\n",
       "      <td>m</td>\n",
       "      <td>1.80</td>\n",
       "      <td>82</td>\n",
       "      <td>25.308642</td>\n",
       "      <td>1634</td>\n",
       "      <td>143</td>\n",
       "      <td>132</td>\n",
       "      <td>4.45</td>\n",
       "      <td>117.5090</td>\n",
       "      <td>...</td>\n",
       "      <td>29.9</td>\n",
       "      <td>35.6</td>\n",
       "      <td>272</td>\n",
       "      <td>91</td>\n",
       "      <td>1.08</td>\n",
       "      <td>9.8</td>\n",
       "      <td>2.8</td>\n",
       "      <td>1.7</td>\n",
       "      <td>126.8</td>\n",
       "      <td>15.1</td>\n",
       "    </tr>\n",
       "    <tr>\n",
       "      <th>45</th>\n",
       "      <td>50.9</td>\n",
       "      <td>m</td>\n",
       "      <td>1.81</td>\n",
       "      <td>85</td>\n",
       "      <td>25.945484</td>\n",
       "      <td>1577</td>\n",
       "      <td>140</td>\n",
       "      <td>116</td>\n",
       "      <td>5.71</td>\n",
       "      <td>179.2813</td>\n",
       "      <td>...</td>\n",
       "      <td>30.1</td>\n",
       "      <td>35.4</td>\n",
       "      <td>242</td>\n",
       "      <td>93</td>\n",
       "      <td>1.21</td>\n",
       "      <td>9.3</td>\n",
       "      <td>3.2</td>\n",
       "      <td>1.6</td>\n",
       "      <td>133.4</td>\n",
       "      <td>62.5</td>\n",
       "    </tr>\n",
       "  </tbody>\n",
       "</table>\n",
       "<p>3 rows × 136 columns</p>\n",
       "</div>"
      ],
      "text/plain": [
       "    Age (y) sex  Height (m)  wight (kg)        BMI   SOS  BUA   SI  BWC%  \\\n",
       "24     51.0   f        1.64          80  29.744200  1512   98   68  6.04   \n",
       "29     31.1   m        1.80          82  25.308642  1634  143  132  4.45   \n",
       "45     50.9   m        1.81          85  25.945484  1577  140  116  5.71   \n",
       "\n",
       "     T1 (ms)  ...   MCH  MCHC  Platelets  FBS  Creatinine  Calcium. Ca  \\\n",
       "24       NaN  ...  31.9  34.2        182   95        1.04          9.3   \n",
       "29  117.5090  ...  29.9  35.6        272   91        1.08          9.8   \n",
       "45  179.2813  ...  30.1  35.4        242   93        1.21          9.3   \n",
       "\n",
       "    Phosphorus.P  TSH  Ferritin   Vit D  \n",
       "24           2.8  1.1       30.2   50.1  \n",
       "29           2.8  1.7      126.8   15.1  \n",
       "45           3.2  1.6      133.4   62.5  \n",
       "\n",
       "[3 rows x 136 columns]"
      ]
     },
     "execution_count": 134,
     "metadata": {},
     "output_type": "execute_result"
    }
   ],
   "source": [
    "nan_index = df.isnull().any(axis=1)\n",
    "df[nan_index]"
   ]
  },
  {
   "cell_type": "code",
   "execution_count": 135,
   "metadata": {},
   "outputs": [
    {
     "data": {
      "text/plain": [
       "array([0, 1.64, 80, 29.744199881023206, 1512, 98, 68, 6.04, nan,\n",
       "       1464.5379782270606, 275.5445101088647, 1188.993468118196,\n",
       "       1577.8487560555054, 1934.08, 372.1921340011495, 465.7108,\n",
       "       1950.040890056655, 4.855, 9.375, 3.45, 221.06, 1.298, 4.85, 7.84,\n",
       "       17.62, 30.31, 1.04, 3.44, 5.25, 17.49, 26.17, 0.52, 0.709, 0.669,\n",
       "       0.993, 0.864, 0.501, -1.3, -0.3, -0.7, -0.6, -2.0, 84, 95, 90, 92,\n",
       "       68, -0.5, 0.1, -0.4, -0.2, -0.6, 93, 102, 94, 98, 87, 12.34, 12.35,\n",
       "       13.83, 15.92, 54.44, 10.73, 11.49, 11.82, 12.86, 46.91, 0.87,\n",
       "       0.931, 0.855, 0.808, 0.862, -1.1, -0.9, -2.1, -2.3, -1.7, 88, 91,\n",
       "       79, 76, 82, -0.4, -0.1, -1.3, -1.5, -0.9, 95, 99, 86, 83, 90, 3.56,\n",
       "       5.32, 2.14, 11.02, 1.4, 3.09, 1.45, 5.94, 0.393, 0.581, 0.678,\n",
       "       0.539, -0.9, -0.5, -0.3, -0.7, 89, 96, 98, 93, -0.3, 0.3, 0.5, 0.0,\n",
       "       95, 103, 104, 100, 5.0, 4.3, 13.8, 40.3, 93.1, 31.9, 34.2, 182, 95,\n",
       "       1.04, 9.3, 2.8, 1.1, 30.2, 50.1], dtype=object)"
      ]
     },
     "execution_count": 135,
     "metadata": {},
     "output_type": "execute_result"
    }
   ],
   "source": [
    "predictors[24]"
   ]
  },
  {
   "cell_type": "code",
   "execution_count": 136,
   "metadata": {},
   "outputs": [
    {
     "data": {
      "text/plain": [
       "135"
      ]
     },
     "execution_count": 136,
     "metadata": {},
     "output_type": "execute_result"
    }
   ],
   "source": [
    "predictors.shape[1]"
   ]
  },
  {
   "cell_type": "code",
   "execution_count": 137,
   "metadata": {},
   "outputs": [
    {
     "data": {
      "text/plain": [
       "array([0, 1.64, 80, 29.744199881023206, 1512, 98, 68, 6.04, nan,\n",
       "       1464.5379782270606, 275.5445101088647, 1188.993468118196,\n",
       "       1577.8487560555054, 1934.08, 372.1921340011495, 465.7108,\n",
       "       1950.040890056655, 4.855, 9.375, 3.45, 221.06, 1.298, 4.85, 7.84,\n",
       "       17.62, 30.31, 1.04, 3.44, 5.25, 17.49, 26.17, 0.52, 0.709, 0.669,\n",
       "       0.993, 0.864, 0.501, -1.3, -0.3, -0.7, -0.6, -2.0, 84, 95, 90, 92,\n",
       "       68, -0.5, 0.1, -0.4, -0.2, -0.6, 93, 102, 94, 98, 87, 12.34, 12.35,\n",
       "       13.83, 15.92, 54.44, 10.73, 11.49, 11.82, 12.86, 46.91, 0.87,\n",
       "       0.931, 0.855, 0.808, 0.862, -1.1, -0.9, -2.1, -2.3, -1.7, 88, 91,\n",
       "       79, 76, 82, -0.4, -0.1, -1.3, -1.5, -0.9, 95, 99, 86, 83, 90, 3.56,\n",
       "       5.32, 2.14, 11.02, 1.4, 3.09, 1.45, 5.94, 0.393, 0.581, 0.678,\n",
       "       0.539, -0.9, -0.5, -0.3, -0.7, 89, 96, 98, 93, -0.3, 0.3, 0.5, 0.0,\n",
       "       95, 103, 104, 100, 5.0, 4.3, 13.8, 40.3, 93.1, 31.9, 34.2, 182, 95,\n",
       "       1.04, 9.3, 2.8, 1.1, 30.2, 50.1], dtype=object)"
      ]
     },
     "execution_count": 137,
     "metadata": {},
     "output_type": "execute_result"
    }
   ],
   "source": [
    "for i in range(0,135):\n",
    "    if predictors[24,i] is np.nan:\n",
    "        predictors[24,i] = 0\n",
    "        \n",
    "predictors[24]"
   ]
  },
  {
   "cell_type": "code",
   "execution_count": 138,
   "metadata": {},
   "outputs": [],
   "source": [
    "for i in range(0,135):\n",
    "    if predictors[29,i] is np.nan:\n",
    "        predictors[29,i] = 0\n",
    "        "
   ]
  },
  {
   "cell_type": "markdown",
   "metadata": {},
   "source": [
    "<div align = 'right'>\n",
    "    <font size=2.5>\n",
    "        <br>حالا که داده ها رو از وجود مقادیر نامعلوم پاک سازی کردیم یه بار دیگه دقیقا همون مدل رو ران میکنیم"
   ]
  },
  {
   "cell_type": "code",
   "execution_count": 139,
   "metadata": {},
   "outputs": [
    {
     "name": "stdout",
     "output_type": "stream",
     "text": [
      "Train on 40 samples, validate on 5 samples\n",
      "Epoch 1/5\n",
      "40/40 [==============================] - 0s 142us/step - loss: nan - accuracy: 0.0000e+00 - val_loss: nan - val_accuracy: 0.0000e+00\n",
      "Epoch 2/5\n",
      "40/40 [==============================] - 0s 136us/step - loss: nan - accuracy: 0.0000e+00 - val_loss: nan - val_accuracy: 0.0000e+00\n",
      "Epoch 3/5\n",
      "40/40 [==============================] - 0s 157us/step - loss: nan - accuracy: 0.0000e+00 - val_loss: nan - val_accuracy: 0.0000e+00\n",
      "Epoch 4/5\n",
      "40/40 [==============================] - 0s 146us/step - loss: nan - accuracy: 0.0000e+00 - val_loss: nan - val_accuracy: 0.0000e+00\n",
      "Epoch 5/5\n",
      "40/40 [==============================] - 0s 188us/step - loss: nan - accuracy: 0.0000e+00 - val_loss: nan - val_accuracy: 0.0000e+00\n"
     ]
    },
    {
     "data": {
      "text/plain": [
       "<keras.callbacks.callbacks.History at 0x14d1129e8>"
      ]
     },
     "execution_count": 139,
     "metadata": {},
     "output_type": "execute_result"
    }
   ],
   "source": [
    "model.fit(predictors,target,validation_split=0.1,epochs=5)"
   ]
  },
  {
   "cell_type": "markdown",
   "metadata": {},
   "source": [
    "<div align = 'right'>\n",
    "    <font size=2.5>\n",
    "        <br> حالا میخوایم داده رو نرمالایز کنیم\n",
    "        "
   ]
  },
  {
   "cell_type": "code",
   "execution_count": 160,
   "metadata": {},
   "outputs": [],
   "source": [
    "import numpy as np\n",
    "normalizer = lambda x: (x - np.mean(x))/(max(x) - min(x))\n",
    "predictors_norm = np.empty([45,135])\n",
    "\n",
    "for i in range(0,135):\n",
    "    predictors_norm[:,i] = normalizer(predictors[:,i])"
   ]
  },
  {
   "cell_type": "code",
   "execution_count": 161,
   "metadata": {},
   "outputs": [
    {
     "data": {
      "text/plain": [
       "array([[-0.4       , -0.32690058, -0.37449909, -0.36419079, -0.11350427,\n",
       "        -0.26208113, -0.22481962, -0.43903382,         nan,  0.49188355,\n",
       "         0.46343621,  0.24884144,  0.25592676,  0.24884144,  0.45084997,\n",
       "         0.46343621,  0.48283463, -0.55211994, -0.32336077, -0.40892256,\n",
       "                nan,  0.01196581, -0.23245325, -0.16414646, -0.38985798,\n",
       "        -0.37239241,  0.42307692, -0.17772524, -0.11912393, -0.24729624,\n",
       "        -0.2204674 ,  0.14767932, -0.09995573, -0.04688135, -0.08      ,\n",
       "        -0.09802182,  0.05927128, -0.08436214,  0.02558923, -0.03306233,\n",
       "        -0.05714286,  0.08148148, -0.0722963 ,  0.01777778, -0.02298851,\n",
       "        -0.05185185,  0.08395062, -0.17777778, -0.0627451 , -0.02374687,\n",
       "        -0.11737892, -0.0749354 , -0.15873016, -0.06872428, -0.07434343,\n",
       "        -0.13846154, -0.08085676, -0.04738164,  0.12839169,  0.00752218,\n",
       "         0.2179085 ,  0.08865722,  0.13664813,  0.23457854,  0.20722181,\n",
       "         0.2984103 ,  0.22928739,  0.20790665,  0.1658169 ,  0.2926231 ,\n",
       "         0.27157464,  0.24267589,  0.25708812,  0.21958569,  0.31320755,\n",
       "         0.29393939,  0.30092593,  0.28549906,  0.23314501,  0.30740741,\n",
       "         0.30434783,  0.29022222,  0.33762183,  0.3220202 ,  0.47234043,\n",
       "         0.37732426,  0.4070922 ,  0.41092279,  0.38222222,  0.51898148,\n",
       "         0.38222222, -0.34537037, -0.20089787, -0.2170297 , -0.09299848,\n",
       "        -0.21362354, -0.13394495, -0.27035024, -0.15948373, -0.2357933 ,\n",
       "        -0.06655853, -0.14293629, -0.16790123, -0.14863388,  0.03666667,\n",
       "        -0.05823755, -0.02833333, -0.0265873 ,  0.02841069, -0.06153846,\n",
       "        -0.03365079, -0.02138365, -0.01264368, -0.1183908 , -0.13650794,\n",
       "        -0.09760349, -0.02607407, -0.12222222, -0.1447619 , -0.08981481,\n",
       "        -0.15612903, -0.0120202 , -0.08430699, -0.00803783, -0.0039596 ,\n",
       "        -0.11944444, -0.23830409,  0.16177778, -0.40193237, -0.31263318,\n",
       "        -0.08148148,  0.05357308,  0.02303797, -0.16866027,  0.08195982]])"
      ]
     },
     "execution_count": 161,
     "metadata": {},
     "output_type": "execute_result"
    }
   ],
   "source": [
    "predictors_norm[:1]"
   ]
  },
  {
   "cell_type": "code",
   "execution_count": null,
   "metadata": {},
   "outputs": [],
   "source": []
  },
  {
   "cell_type": "code",
   "execution_count": null,
   "metadata": {},
   "outputs": [],
   "source": []
  },
  {
   "cell_type": "code",
   "execution_count": null,
   "metadata": {},
   "outputs": [],
   "source": []
  },
  {
   "cell_type": "code",
   "execution_count": null,
   "metadata": {},
   "outputs": [],
   "source": []
  },
  {
   "cell_type": "code",
   "execution_count": null,
   "metadata": {},
   "outputs": [],
   "source": []
  }
 ],
 "metadata": {
  "kernelspec": {
   "display_name": "Python 3",
   "language": "python",
   "name": "python3"
  },
  "language_info": {
   "codemirror_mode": {
    "name": "ipython",
    "version": 3
   },
   "file_extension": ".py",
   "mimetype": "text/x-python",
   "name": "python",
   "nbconvert_exporter": "python",
   "pygments_lexer": "ipython3",
   "version": "3.7.1"
  }
 },
 "nbformat": 4,
 "nbformat_minor": 2
}
