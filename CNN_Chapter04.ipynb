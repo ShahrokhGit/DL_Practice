{
 "cells": [
  {
   "cell_type": "markdown",
   "metadata": {},
   "source": [
    "# Image Processing With Machine Learning\n",
    "Date: 23 December 2019\n",
    "<br> Course: Convolutional Neural Netwroks for Image Processing \n",
    "<br> link: https://www.datacamp.com/courses/convolutional-neural-networks-for-image-processing"
   ]
  },
  {
   "cell_type": "code",
   "execution_count": 1,
   "metadata": {},
   "outputs": [],
   "source": [
    "import numpy as np\n",
    "import matplotlib.pyplot as plt\n",
    "import keras\n",
    "from keras.utils import to_categorical\n",
    "from keras.utils import normalize\n",
    "from keras.layers import Conv2D, Flatten, Dense, MaxPooling2D\n",
    "from keras.models import Sequential"
   ]
  },
  {
   "cell_type": "markdown",
   "metadata": {},
   "source": [
    "<div align = 'right'>\n",
    "    <font size=3, style='font-family:B Nazanin'>\n",
    "        <b>\n",
    "            <br> اینجا کانسپت ها خیلی خفنی رو نمی خوایم بحث کنیم بلکه میخوایم فقط یاد بدیم که چطور پروسه ی یادگیری مدلت رو ترک کنی\n",
    "            <br> قبلا یه چیزایی یاد گرفتیم ولی حالا می خوایم یه کم حرفه ای تر بررسی کنیم و مفهوم چک پوینت رو هم معرفی کنیم\n",
    "            <br> برای اینکار باید یه دیتاست و یه مدل واقعی داشته باشیم که باهاش کارکنیم. بنابراین من دیتا رو دوباره توی این نوت بوک هم لود میکنم و برای اینکار کلا کد رو از نوت بوک فصل قبل کپی میکنم"
   ]
  },
  {
   "cell_type": "code",
   "execution_count": 2,
   "metadata": {},
   "outputs": [],
   "source": [
    "# A function offered by the website itself to read the data batches\n",
    "def unpickle(file):\n",
    "    import pickle\n",
    "    with open(file, 'rb') as fo:\n",
    "        dict = pickle.load(fo, encoding='bytes')\n",
    "    return dict\n",
    "\n",
    "batch_training_01 = unpickle('cifar-10-batches-py/data_batch_1')\n",
    "\n",
    "batch01_data = batch_training_01.pop(b'data')\n",
    "batch01_label = batch_training_01.pop(b'labels')\n",
    "\n",
    "def gray_batch_converter(batch01_data):\n",
    "    gray = lambda rgb: np.dot(rgb[:,:,:3], [0.299 , 0.587, 0.114])\n",
    "    batch01_data_gs = np.zeros((10000,1024),dtype = 'uint8')\n",
    "    row_number = 0\n",
    "    for row in batch01_data:\n",
    "        img_cl = np.zeros((32,32,3),dtype='uint8')\n",
    "        img_cl[:,:,0] = row[0:1024].reshape(32,32)\n",
    "        img_cl[:,:,1] = row[1024:2048].reshape(32,32)\n",
    "        img_cl[:,:,2] = row[2048:3072].reshape(32,32)    \n",
    "        img_gs = gray(img_cl)\n",
    "        batch01_data_gs[row_number] = img_gs.reshape(1,1024)\n",
    "        row_number = row_number + 1\n",
    "    return batch01_data_gs\n",
    "\n",
    "batch01_data_gs = gray_batch_converter(batch01_data)\n",
    "\n",
    "train_input = batch01_data_gs[0:9500,0:1024]\n",
    "train_output = batch01_label[0:9500]\n",
    "test_input = batch01_data_gs[9500:10000,0:1024]\n",
    "test_output = batch01_label[9500:10000]\n",
    "\n",
    "train_output_ohe = to_categorical(train_output)\n",
    "test_output_ohe = to_categorical(test_output)\n",
    "\n",
    "from keras.utils import normalize\n",
    "train_input_norm = normalize(train_input)\n",
    "test_input_norm = normalize(test_input)\n",
    "\n",
    "train_input_norm_img = train_input_norm.reshape(9500,32,32,1)\n",
    "test_input_norm_img = test_input_norm.reshape(500,32,32,1)"
   ]
  }
 ],
 "metadata": {
  "kernelspec": {
   "display_name": "Python 3",
   "language": "python",
   "name": "python3"
  },
  "language_info": {
   "codemirror_mode": {
    "name": "ipython",
    "version": 3
   },
   "file_extension": ".py",
   "mimetype": "text/x-python",
   "name": "python",
   "nbconvert_exporter": "python",
   "pygments_lexer": "ipython3",
   "version": "3.7.5"
  }
 },
 "nbformat": 4,
 "nbformat_minor": 2
}
