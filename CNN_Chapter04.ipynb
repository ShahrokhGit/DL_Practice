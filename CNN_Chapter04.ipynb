{
 "cells": [
  {
   "cell_type": "markdown",
   "metadata": {},
   "source": [
    "# Image Processing With Machine Learning\n",
    "Date: 23 December 2019\n",
    "<br> Course: Convolutional Neural Netwroks for Image Processing \n",
    "<br> link: https://www.datacamp.com/courses/convolutional-neural-networks-for-image-processing"
   ]
  },
  {
   "cell_type": "code",
   "execution_count": 2,
   "metadata": {},
   "outputs": [
    {
     "name": "stderr",
     "output_type": "stream",
     "text": [
      "Using TensorFlow backend.\n"
     ]
    }
   ],
   "source": [
    "import numpy as np\n",
    "import matplotlib.pyplot as plt\n",
    "import keras\n",
    "from keras.utils import to_categorical\n",
    "from keras.utils import normalize\n",
    "from keras.layers import Conv2D, Flatten, Dense, MaxPooling2D\n",
    "from keras.models import Sequential"
   ]
  },
  {
   "cell_type": "markdown",
   "metadata": {},
   "source": [
    "# Tracking the Learning Process"
   ]
  },
  {
   "cell_type": "markdown",
   "metadata": {},
   "source": [
    "<div align = 'right'>\n",
    "    <font size=3, style='font-family:B Nazanin'>\n",
    "        <b>\n",
    "            <br> اینجا کانسپت ها خیلی خفنی رو نمی خوایم بحث کنیم بلکه میخوایم فقط یاد بدیم که چطور پروسه ی یادگیری مدلت رو ترک کنی\n",
    "            <br> قبلا یه چیزایی یاد گرفتیم ولی حالا می خوایم یه کم حرفه ای تر بررسی کنیم و مفهوم چک پوینت رو هم معرفی کنیم\n",
    "            <br> برای اینکار باید یه دیتاست و یه مدل واقعی داشته باشیم که باهاش کارکنیم. بنابراین من دیتا رو دوباره توی این نوت بوک هم لود میکنم و برای اینکار کلا کد رو از نوت بوک فصل قبل کپی میکنم"
   ]
  },
  {
   "cell_type": "code",
   "execution_count": 4,
   "metadata": {},
   "outputs": [],
   "source": [
    "# A function offered by the website itself to read the data batches\n",
    "def unpickle(file):\n",
    "    import pickle\n",
    "    with open(file, 'rb') as fo:\n",
    "        dict = pickle.load(fo, encoding='bytes')\n",
    "    return dict\n",
    "\n",
    "batch_training_01 = unpickle('cifar-10-batches-py/data_batch_1')\n",
    "\n",
    "batch01_data = batch_training_01.pop(b'data')\n",
    "batch01_label = batch_training_01.pop(b'labels')\n",
    "\n",
    "def gray_batch_converter(batch01_data):\n",
    "    gray = lambda rgb: np.dot(rgb[:,:,:3], [0.299 , 0.587, 0.114])\n",
    "    batch01_data_gs = np.zeros((10000,1024),dtype = 'uint8')\n",
    "    row_number = 0\n",
    "    for row in batch01_data:\n",
    "        img_cl = np.zeros((32,32,3),dtype='uint8')\n",
    "        img_cl[:,:,0] = row[0:1024].reshape(32,32)\n",
    "        img_cl[:,:,1] = row[1024:2048].reshape(32,32)\n",
    "        img_cl[:,:,2] = row[2048:3072].reshape(32,32)    \n",
    "        img_gs = gray(img_cl)\n",
    "        batch01_data_gs[row_number] = img_gs.reshape(1,1024)\n",
    "        row_number = row_number + 1\n",
    "    return batch01_data_gs\n",
    "\n",
    "batch01_data_gs = gray_batch_converter(batch01_data)\n",
    "\n",
    "train_input = batch01_data_gs[0:9500,0:1024]\n",
    "train_output = batch01_label[0:9500]\n",
    "test_input = batch01_data_gs[9500:10000,0:1024]\n",
    "test_output = batch01_label[9500:10000]\n",
    "\n",
    "train_output_ohe = to_categorical(train_output)\n",
    "test_output_ohe = to_categorical(test_output)\n",
    "\n",
    "from keras.utils import normalize\n",
    "train_input_norm = normalize(train_input)\n",
    "test_input_norm = normalize(test_input)\n",
    "\n",
    "train_input_norm_img = train_input_norm.reshape(9500,32,32,1)\n",
    "test_input_norm_img = test_input_norm.reshape(500,32,32,1)"
   ]
  },
  {
   "cell_type": "markdown",
   "metadata": {},
   "source": [
    "<div align = 'right'>\n",
    "    <font size=3, style='font-family:B Nazanin'>\n",
    "        <b>\n",
    "            <br> در حین ترینینگ همینطور که وزن ها آپدیت میشن، توابع لاس هم باید هی مقدارشون کم و کمتر بشن این نشون می ده که ترینینگ داره درست اتفاق میفته. هر دو تابع لاس منظورم هست. هم ولیدیشن لاس هم ترینینگ لاس. اگه ترینینگ لاس کم بشه ولی ولیدیشن کم نشه این یعنی اوورفیتینگ اتفاق افتاده"
   ]
  },
  {
   "cell_type": "code",
   "execution_count": 3,
   "metadata": {},
   "outputs": [
    {
     "data": {
      "text/plain": [
       "<matplotlib.image.AxesImage at 0x529c2ef588>"
      ]
     },
     "execution_count": 3,
     "metadata": {},
     "output_type": "execute_result"
    },
    {
     "data": {
      "image/png": "[encoded data removed]",
      "text/plain": [
       "<Figure size 432x288 with 1 Axes>"
      ]
     },
     "metadata": {
      "needs_background": "light"
     },
     "output_type": "display_data"
    }
   ],
   "source": [
    "overfit_diagram = plt.imread('Photos\\overfitting.PNG')\n",
    "plt.imshow(overfit_diagram)"
   ]
  },
  {
   "cell_type": "markdown",
   "metadata": {},
   "source": [
    "<div align = 'right'>\n",
    "    <font size=3, style='font-family:B Nazanin'>\n",
    "        <b>\n",
    "            <br> خب مثلا همین شکل نشون میده که ما از ایپوک سوم داشتیم به براهه میرفتیم و خبر نداشتیم. یعنی داشتیم وزن هامون رو به طور هرز آپدیت میکردیم"
   ]
  },
  {
   "cell_type": "code",
   "execution_count": 8,
   "metadata": {},
   "outputs": [
    {
     "name": "stdout",
     "output_type": "stream",
     "text": [
      "Train on 7600 samples, validate on 1900 samples\n",
      "Epoch 1/20\n",
      "7600/7600 [==============================] - 6s 837us/step - loss: 10.4512 - acc: 0.1637 - val_loss: 9.2420 - val_acc: 0.0879\n",
      "Epoch 2/20\n",
      "7600/7600 [==============================] - 5s 670us/step - loss: 6.6095 - acc: 0.1607 - val_loss: 6.3236 - val_acc: 0.1700\n",
      "Epoch 3/20\n",
      "7600/7600 [==============================] - 5s 674us/step - loss: 6.1297 - acc: 0.2153 - val_loss: 6.2928 - val_acc: 0.2153\n",
      "Epoch 4/20\n",
      "7600/7600 [==============================] - 5s 672us/step - loss: 6.1173 - acc: 0.2261 - val_loss: 6.3265 - val_acc: 0.2347\n",
      "Epoch 5/20\n",
      "7600/7600 [==============================] - 5s 662us/step - loss: 6.1043 - acc: 0.2326 - val_loss: 6.3704 - val_acc: 0.1858\n",
      "Epoch 6/20\n",
      "7600/7600 [==============================] - 5s 685us/step - loss: 6.0599 - acc: 0.2189 - val_loss: 6.2256 - val_acc: 0.2216\n",
      "Epoch 7/20\n",
      "7600/7600 [==============================] - 5s 714us/step - loss: 6.0814 - acc: 0.2380 - val_loss: 6.2231 - val_acc: 0.2316\n",
      "Epoch 8/20\n",
      "7600/7600 [==============================] - 6s 751us/step - loss: 6.0787 - acc: 0.2475 - val_loss: 6.3473 - val_acc: 0.1400\n",
      "Epoch 9/20\n",
      "7600/7600 [==============================] - 6s 743us/step - loss: 6.0402 - acc: 0.2451 - val_loss: 6.2735 - val_acc: 0.2211\n",
      "Epoch 10/20\n",
      "7600/7600 [==============================] - 6s 726us/step - loss: 6.0505 - acc: 0.2251 - val_loss: 6.2185 - val_acc: 0.2247\n",
      "Epoch 11/20\n",
      "7600/7600 [==============================] - 6s 731us/step - loss: 6.0089 - acc: 0.2570 - val_loss: 6.2147 - val_acc: 0.2268\n",
      "Epoch 12/20\n",
      "7600/7600 [==============================] - 6s 735us/step - loss: 6.0134 - acc: 0.2445 - val_loss: 6.2193 - val_acc: 0.2416\n",
      "Epoch 13/20\n",
      "7600/7600 [==============================] - 7s 878us/step - loss: 6.0101 - acc: 0.2553 - val_loss: 6.2752 - val_acc: 0.2405\n",
      "Epoch 14/20\n",
      "7600/7600 [==============================] - 6s 791us/step - loss: 6.0084 - acc: 0.2687 - val_loss: 6.2395 - val_acc: 0.2063\n",
      "Epoch 15/20\n",
      "7600/7600 [==============================] - 5s 718us/step - loss: 6.0944 - acc: 0.2258 - val_loss: 6.2778 - val_acc: 0.2026\n",
      "Epoch 16/20\n",
      "7600/7600 [==============================] - 5s 719us/step - loss: 6.1856 - acc: 0.1532 - val_loss: 6.4035 - val_acc: 0.0879\n",
      "Epoch 17/20\n",
      "7600/7600 [==============================] - 5s 703us/step - loss: 6.2087 - acc: 0.1020 - val_loss: 6.3847 - val_acc: 0.0895\n",
      "Epoch 18/20\n",
      "7600/7600 [==============================] - 5s 697us/step - loss: 6.1864 - acc: 0.1272 - val_loss: 6.3525 - val_acc: 0.1311\n",
      "Epoch 19/20\n",
      "7600/7600 [==============================] - 5s 689us/step - loss: 6.1129 - acc: 0.1845 - val_loss: 6.2599 - val_acc: 0.2058\n",
      "Epoch 20/20\n",
      "7600/7600 [==============================] - 5s 685us/step - loss: 6.0067 - acc: 0.2492 - val_loss: 6.2937 - val_acc: 0.2442\n"
     ]
    }
   ],
   "source": [
    "model_test = Sequential()\n",
    "model_test.add(Conv2D(10, kernel_size=3, activation='relu', input_shape=(32,32,1)))\n",
    "model_test.add(MaxPooling2D(2))\n",
    "model_test.add(Flatten())\n",
    "model_test.add(Dense(10, activation='relu'))\n",
    "\n",
    "\n",
    "model_test.compile(optimizer='adam', loss='categorical_crossentropy', metrics=['accuracy'])\n",
    "\n",
    "stats = model_test.fit(train_input_norm_img, train_output_ohe, epochs = 20, validation_split=0.2)"
   ]
  },
  {
   "cell_type": "markdown",
   "metadata": {},
   "source": [
    "<div align = 'right'>\n",
    "    <font size=3, style='font-family:B Nazanin'>\n",
    "        <b>\n",
    "            <br> همانطور که دیدی من خروجی فیت رو در یک متغیر ذخیره کردم. این متغیر یه دیکشنری هست که پارامتر ها و نتایج ترینینگ رو در خود ذخیره میکند\n",
    "            <br> حالا می تونم لاس رو هم در ترینینگ و هم در ولیدیشن رسم کنم"
   ]
  },
  {
   "cell_type": "code",
   "execution_count": 20,
   "metadata": {},
   "outputs": [
    {
     "data": {
      "text/plain": [
       "<matplotlib.legend.Legend at 0x52ad246b08>"
      ]
     },
     "execution_count": 20,
     "metadata": {},
     "output_type": "execute_result"
    },
    {
     "data": {
      "image/png": "[encoded data removed]",
      "text/plain": [
       "<Figure size 432x288 with 1 Axes>"
      ]
     },
     "metadata": {
      "needs_background": "light"
     },
     "output_type": "display_data"
    }
   ],
   "source": [
    "plt.plot(stats.history['loss'], label='Training Loss')\n",
    "plt.plot(stats.history['val_loss'], label='Validation Loss')\n",
    "plt.legend()"
   ]
  },
  {
   "cell_type": "markdown",
   "metadata": {},
   "source": [
    "<div align = 'right'>\n",
    "    <font size=3, style='font-family:B Nazanin'>\n",
    "        <b>\n",
    "            <br> که خب برای ما اینجا اوورفیتینگ اتفاق نیفتاد\n",
    "            <br> حالا سوال اینه که چطور از اوورفیتینگ جلوگیری کنیم. چطور پارامترهامون رو طوری انتخاب کنیم که از اوورفیتینگ جلوگیری کنیم؟ \n",
    "            <br> راهش اینه که از یه سری کالبک هایی در کراس استفاده کنیم که یه سری توابعی دارند که می تونند در انتهای هر ایپوک ران بشن و بهمون بگن که دنیا دست کیه\n",
    "            <br> یکی از اینها اسمش مدل چک پوینت هست. این کال بک فانکشن وزن ها رو ذخیره میکنه ( در یک فایل با پسوند اچ دی اف فایو) و ولیدیشن لاس رو مانیتور میکنه و تنها وقتی که بهبودی در ولیدیشن لاس حاصل شد وزن ها رو اوور رایت میکنه\n",
    "            <br> و این یعنی اینکه اگه شبکه یهویی اوورفیت کرد. مدل وزن های مربوط به کنترین مقدار لاس رو ذخیره میکنه\n",
    "            <br> چطور استفاده میکنیم؟\n",
    "            <br> یه چک پوینت آبجکت ازش میسازیم. اون رو در یک لیست ذخیره میکنیم. در موقع فیت کردن، اون رو  به مدل میدیم"
   ]
  },
  {
   "cell_type": "code",
   "execution_count": 22,
   "metadata": {},
   "outputs": [
    {
     "name": "stdout",
     "output_type": "stream",
     "text": [
      "Train on 7600 samples, validate on 1900 samples\n",
      "Epoch 1/20\n",
      "7600/7600 [==============================] - 6s 732us/step - loss: 6.0842 - acc: 0.2229 - val_loss: 6.3122 - val_acc: 0.2289\n",
      "Epoch 2/20\n",
      "7600/7600 [==============================] - 6s 736us/step - loss: 6.0969 - acc: 0.2205 - val_loss: 6.3318 - val_acc: 0.2479\n",
      "Epoch 3/20\n",
      "7600/7600 [==============================] - 6s 724us/step - loss: 5.9789 - acc: 0.2778 - val_loss: 6.3522 - val_acc: 0.2542\n",
      "Epoch 4/20\n",
      "7600/7600 [==============================] - 5s 710us/step - loss: 5.9648 - acc: 0.2863 - val_loss: 6.4449 - val_acc: 0.2642\n",
      "Epoch 5/20\n",
      "7600/7600 [==============================] - 5s 679us/step - loss: 5.9272 - acc: 0.3024 - val_loss: 6.5429 - val_acc: 0.2732\n",
      "Epoch 6/20\n",
      "7600/7600 [==============================] - 5s 677us/step - loss: 5.9180 - acc: 0.3178 - val_loss: 6.3729 - val_acc: 0.2658\n",
      "Epoch 7/20\n",
      "7600/7600 [==============================] - 5s 691us/step - loss: 5.9454 - acc: 0.3024 - val_loss: 6.3001 - val_acc: 0.2679\n",
      "Epoch 8/20\n",
      "7600/7600 [==============================] - 5s 674us/step - loss: 5.9409 - acc: 0.3011 - val_loss: 6.4314 - val_acc: 0.2589\n",
      "Epoch 9/20\n",
      "7600/7600 [==============================] - 5s 684us/step - loss: 5.9175 - acc: 0.3139 - val_loss: 6.4442 - val_acc: 0.2689\n",
      "Epoch 10/20\n",
      "7600/7600 [==============================] - 5s 689us/step - loss: 5.9058 - acc: 0.3143 - val_loss: 6.4089 - val_acc: 0.2763\n",
      "Epoch 11/20\n",
      "7600/7600 [==============================] - 5s 680us/step - loss: 5.9245 - acc: 0.3037 - val_loss: 6.3027 - val_acc: 0.2653\n",
      "Epoch 12/20\n",
      "7600/7600 [==============================] - 5s 682us/step - loss: 5.8883 - acc: 0.3126 - val_loss: 6.6943 - val_acc: 0.2711\n",
      "Epoch 13/20\n",
      "7600/7600 [==============================] - 5s 700us/step - loss: 5.8656 - acc: 0.3313 - val_loss: nan - val_acc: 0.2868\n",
      "Epoch 14/20\n",
      " 224/7600 [..............................] - ETA: 4s - loss: 6.9391 - acc: 0.2679"
     ]
    },
    {
     "name": "stderr",
     "output_type": "stream",
     "text": [
      "C:\\Users\\Shahrokh\\Anaconda3\\envs\\tf\\lib\\site-packages\\keras\\callbacks.py:436: RuntimeWarning: invalid value encountered in less\n",
      "  if self.monitor_op(current, self.best):\n"
     ]
    },
    {
     "name": "stdout",
     "output_type": "stream",
     "text": [
      "7600/7600 [==============================] - 5s 667us/step - loss: 5.9155 - acc: 0.3141 - val_loss: 6.5847 - val_acc: 0.2800\n",
      "Epoch 15/20\n",
      "7600/7600 [==============================] - 10s 1ms/step - loss: nan - acc: 0.2784 - val_loss: nan - val_acc: 0.1074\n",
      "Epoch 16/20\n",
      "7600/7600 [==============================] - 18s 2ms/step - loss: nan - acc: 0.0989 - val_loss: nan - val_acc: 0.1074\n",
      "Epoch 17/20\n",
      "7600/7600 [==============================] - 19s 3ms/step - loss: nan - acc: 0.0989 - val_loss: nan - val_acc: 0.1074\n",
      "Epoch 18/20\n",
      "7600/7600 [==============================] - 19s 2ms/step - loss: nan - acc: 0.0989 - val_loss: nan - val_acc: 0.1074\n",
      "Epoch 19/20\n",
      "7600/7600 [==============================] - 19s 2ms/step - loss: nan - acc: 0.0989 - val_loss: nan - val_acc: 0.1074\n",
      "Epoch 20/20\n",
      "7600/7600 [==============================] - 19s 3ms/step - loss: nan - acc: 0.0989 - val_loss: nan - val_acc: 0.1074\n"
     ]
    }
   ],
   "source": [
    "from keras.callbacks import ModelCheckpoint\n",
    "checkpoint = ModelCheckpoint('weights.hdf5', monitor='val_loss', save_best_only=True)\n",
    "callbacks_list = [checkpoint]\n",
    "\n",
    "stats1 = model_test.fit(train_input_norm_img, train_output_ohe, epochs=20, validation_split=0.2, callbacks=callbacks_list)"
   ]
  },
  {
   "cell_type": "markdown",
   "metadata": {},
   "source": [
    "<div align = 'right'>\n",
    "    <font size=3, style='font-family:B Nazanin'>\n",
    "        <b>\n",
    "            <br> وقتی که همه ی مراحل و همه ی ایپوک های ترینینگ انجام شد، اونوقت این فایل یعنی همین فایل با پسوند اچ دی اف فایو حاوی بهترین وزن ها هست. حالا سوال اینه که چطوری ازش استفاده کنیم؟ \n",
    "            <br> هیچی خیلی راحت. می تونی یه مدل و که ساختی. دیگه اون رو ترین نکنی و به جای ترین کردن این وزن های ذخیره شده رو روش لود کنی\n",
    "            <br> فرض کن که من  مدل1 رو ساختم حالا می خوام وزن ها رو روش لود کنم (که البته فک کنم به این صورت هست که باید دقیقا همون استراکچر رو داشته باشه دیگه) "
   ]
  },
  {
   "cell_type": "code",
   "execution_count": null,
   "metadata": {},
   "outputs": [],
   "source": [
    "model1.load_weights('weights.hdf5')"
   ]
  },
  {
   "cell_type": "markdown",
   "metadata": {},
   "source": [
    "<div align = 'right'>\n",
    "    <font size=3, style='font-family:B Nazanin'>\n",
    "        <b>\n",
    "            <br> به همین راحتی. این الآن آماده ست. شما به راحتی میتونی باهاش پیش بینی انجام بدی"
   ]
  },
  {
   "cell_type": "markdown",
   "metadata": {},
   "source": [
    "# Regularization: A Way to prevent overfitting"
   ]
  },
  {
   "cell_type": "markdown",
   "metadata": {},
   "source": [
    "<div align = 'right'>\n",
    "    <font size=3, style='font-family:B Nazanin'>\n",
    "        <b>\n",
    "            <br> در واقع رگولاریزیشن راهی است برای جلوگیری از اوور فیتینگ و اینکه بهمون اجازه میده که بهترین نتیجه رو از ترینینگمون بگیریم. که در اینجا دو روش متفاوت برای رگولاریزیشن ارائه خواهد شد. یکی بهش میگن دراپ اوت و یکی دیگه رو بهش میگن بچ نورمالیزیشن\n",
    "           "
   ]
  },
  {
   "cell_type": "markdown",
   "metadata": {},
   "source": [
    "# ِDropout"
   ]
  },
  {
   "cell_type": "markdown",
   "metadata": {},
   "source": [
    "<div align = 'right'>\n",
    "    <font size=3, style='font-family:B Nazanin'>\n",
    "        <b>\n",
    "            <br> بذار اول در مورد دراپ اوت صحبت کنیم\n",
    "            <br> در روش دراپ اوت، ابتدا یه زیر مجموعه از نورون های داخل یه لایه رو به طور رندوم انتخاب میکنیم و اونها رو \n",
    "            بیخیال میشیم. یعنی هم در پروسه ی فوروارد پروپگیشن و هم در پروسه ی بک پروپگیشن در نظر گرفته نخواهند شد"
   ]
  },
  {
   "cell_type": "code",
   "execution_count": 24,
   "metadata": {},
   "outputs": [
    {
     "data": {
      "text/plain": [
       "<matplotlib.image.AxesImage at 0x52ace07448>"
      ]
     },
     "execution_count": 24,
     "metadata": {},
     "output_type": "execute_result"
    },
    {
     "data": {
      "image/png": "[encoded data removed]",
      "text/plain": [
       "<Figure size 432x288 with 1 Axes>"
      ]
     },
     "metadata": {
      "needs_background": "light"
     },
     "output_type": "display_data"
    }
   ],
   "source": [
    "dropout_scheme = plt.imread('Photos\\dropout.PNG')\n",
    "plt.imshow(dropout_scheme)"
   ]
  },
  {
   "cell_type": "markdown",
   "metadata": {},
   "source": [
    "<div align = 'right'>\n",
    "    <font size=3, style='font-family:B Nazanin'>\n",
    "        <b>\n",
    "            <br> این الآن برای یه استپ ترینینگ داره نشون میده. ممکنه برای استپ بعدی نورون های دیگه ای حذف بشن.\n",
    "            <br> خب حالا این روش مسخره چطور میتونه به پروسه ی ترینینگ کمک کنه\n",
    "            <br> با این روش اگه یه بخضشی از شبکه به یه طور نویز در دیتا بیش از حد حساس بشه، پارت دیگه ی شبکه این رو جبران \n",
    "            میکنه چون این پارت اصلا اون دیتا با اون نویز رو ندیده\n",
    "            <br> جور دیگه ای که می تونه کمک کنه اینه که اجازه نمی ده که پاسخ نورون ها به هم مرتبط باشن و با هم کورلیتد باشن \n",
    "            مثلا اگه یه نورونی یاد میگیره که خطوط عمودی رو دیتکت کنه و با این روش اجازه نمیدیم که نورون های دیکه هم همون رو \n",
    "            یاد بگیرن. با این روش دراپ اوت نورون دیگه چیز دیگه می تونه یاد بگیره و مثلا یاد بگیره خطوط عمودی رو دیتکت کنه\n",
    "            <br> چطور توی کراس این رو پیاده کنیم؟ \n",
    "            <br> هیچی. با کراس. به قول خارجیا ایزی پیزی، جاپونیزی\n",
    "            <br> در کراس این مانسپت در قالب یه لایه پیاده سازی شده که می تونی اون رو از لایه های کراس ایمپورت کنی و استفاده \n",
    "            کنی. بعد از هر لایه ای که می خوای نورون هاش ایگنور بشن می تونی یه لایه ی دراپ اوت بذاری. به عنوان ورودی یه عدد بین \n",
    "            صفر و یک میگیره که نشون دهنده ی درصدی از نورون هاست که بیخیالشون میشم\n",
    "            <br> به نظر من دراپ اوت پروسه ی لرنینگ رو خیلی با دقت تر میکنه و من خیلی دوستش دارم\n",
    "            \n",
    "           "
   ]
  },
  {
   "cell_type": "code",
   "execution_count": 26,
   "metadata": {},
   "outputs": [
    {
     "name": "stdout",
     "output_type": "stream",
     "text": [
      "Train on 7600 samples, validate on 1900 samples\n",
      "Epoch 1/10\n",
      "7600/7600 [==============================] - 10s 1ms/step - loss: 2.1509 - acc: 0.2204 - val_loss: 2.0636 - val_acc: 0.2784\n",
      "Epoch 2/10\n",
      "7600/7600 [==============================] - 8s 1ms/step - loss: 2.0203 - acc: 0.2955 - val_loss: 2.0085 - val_acc: 0.3016\n",
      "Epoch 3/10\n",
      "7600/7600 [==============================] - 8s 1ms/step - loss: 1.9760 - acc: 0.3116 - val_loss: 1.9934 - val_acc: 0.3011\n",
      "Epoch 4/10\n",
      "7600/7600 [==============================] - 8s 1ms/step - loss: 1.9421 - acc: 0.3361 - val_loss: 1.9658 - val_acc: 0.3168\n",
      "Epoch 5/10\n",
      "7600/7600 [==============================] - 8s 1ms/step - loss: 1.9198 - acc: 0.3388 - val_loss: 1.9636 - val_acc: 0.3195\n",
      "Epoch 6/10\n",
      "7600/7600 [==============================] - 8s 1ms/step - loss: 1.8891 - acc: 0.3541 - val_loss: 1.9347 - val_acc: 0.3347\n",
      "Epoch 7/10\n",
      "7600/7600 [==============================] - 8s 1ms/step - loss: 1.8605 - acc: 0.3678 - val_loss: 1.9298 - val_acc: 0.3426\n",
      "Epoch 8/10\n",
      "7600/7600 [==============================] - 8s 1ms/step - loss: 1.8367 - acc: 0.3787 - val_loss: 1.9015 - val_acc: 0.3537\n",
      "Epoch 9/10\n",
      "7600/7600 [==============================] - 8s 1ms/step - loss: 1.8039 - acc: 0.3826 - val_loss: 1.8932 - val_acc: 0.3437\n",
      "Epoch 10/10\n",
      "7600/7600 [==============================] - 8s 1ms/step - loss: 1.7838 - acc: 0.3905 - val_loss: 1.8858 - val_acc: 0.3484\n"
     ]
    }
   ],
   "source": [
    "from keras.layers import Dropout\n",
    "\n",
    "shah_classifier5 = Sequential()\n",
    "shah_classifier5.add(Conv2D(15, kernel_size=3, activation = 'relu', input_shape = (32,32,1), padding='same'))\n",
    "shah_classifier5.add(Dropout(0.25))\n",
    "shah_classifier5.add(Flatten())\n",
    "shah_classifier5.add(Dense(10, activation='softmax'))\n",
    "\n",
    "shah_classifier5.compile(optimizer='adam', loss='categorical_crossentropy', metrics=['accuracy'])\n",
    "\n",
    "shah_stats5 = shah_classifier5.fit(train_input_norm_img, train_output_ohe, epochs=10, validation_split=0.2)"
   ]
  },
  {
   "cell_type": "markdown",
   "metadata": {},
   "source": [
    "# Batch Normalization"
   ]
  },
  {
   "cell_type": "markdown",
   "metadata": {},
   "source": [
    "<div align = 'right'>\n",
    "    <font size=3, style='font-family:B Nazanin'>\n",
    "        <b>\n",
    "            <br> استراتژی رگولاریزیشن بعدی ای که می خوایم بهش بپردازیم بچ نورمالیزیشن هست\n",
    "            <br> در این روش خروجی یه لایه رو میگیریم و اون رو نرمالایز میکنیم. بنابراین همیشه در هر بچ از ترینینگ میانگین آن \n",
    "            صفر میمونه و انحراف معیار آن برابر با 1\n",
    "            <br> در واقع یه مشکلی برای شبکه ها بوده و اون هم اینه که بچ ها ی مختلفی از ورودی منجر به بچ هایی در خروجی میشده \n",
    "            اند که انحراف معیار خیلی متفاوتی با هم داشته اند. یعنی یه بچ میومده بیرون  تا 100 ماکزیموم داشته بعد یهو بچ بعدی \n",
    "            میومده بیرون تا 10 ماکزیموم داشته و خب اون همگرایی وزن های شبکه رو مختل میکنه و ممکنه پروسه ی لرنینگ خیلی طول \n",
    "            بکشه\n",
    "            <br> بچ نرمالیزیشن اومده تا این مشکل رو حل کنه و مثل همون دراپ اوت در کراس به عنوان یه لایه پیاده سازی شده است\n",
    "            <br> لایه رو میذاری بعد از اون لایه ای که می خوای خروچی اش نرمالایز بشه. میذاری پشت اون لایه ای که فک میکنی چغره\n",
    "            "
   ]
  },
  {
   "cell_type": "code",
   "execution_count": 43,
   "metadata": {},
   "outputs": [
    {
     "name": "stdout",
     "output_type": "stream",
     "text": [
      "Train on 7600 samples, validate on 1900 samples\n",
      "Epoch 1/10\n",
      "7600/7600 [==============================] - 13s 2ms/step - loss: 2.0102 - acc: 0.2971 - val_loss: 2.5453 - val_acc: 0.1700\n",
      "Epoch 2/10\n",
      "7600/7600 [==============================] - 9s 1ms/step - loss: 1.6931 - acc: 0.4155 - val_loss: 1.9639 - val_acc: 0.3342\n",
      "Epoch 3/10\n",
      "7600/7600 [==============================] - 9s 1ms/step - loss: 1.5195 - acc: 0.4730 - val_loss: 1.9624 - val_acc: 0.3532\n",
      "Epoch 4/10\n",
      "7600/7600 [==============================] - 10s 1ms/step - loss: 1.3782 - acc: 0.5251 - val_loss: 2.9475 - val_acc: 0.1953\n",
      "Epoch 5/10\n",
      "7600/7600 [==============================] - 9s 1ms/step - loss: 1.2578 - acc: 0.5686 - val_loss: 1.8377 - val_acc: 0.3879\n",
      "Epoch 6/10\n",
      "7600/7600 [==============================] - 9s 1ms/step - loss: 1.1610 - acc: 0.6022 - val_loss: 2.2230 - val_acc: 0.3337\n",
      "Epoch 7/10\n",
      "7600/7600 [==============================] - 9s 1ms/step - loss: 1.0673 - acc: 0.6405 - val_loss: 2.2506 - val_acc: 0.3542\n",
      "Epoch 8/10\n",
      "7600/7600 [==============================] - 11s 1ms/step - loss: 0.9679 - acc: 0.6674 - val_loss: 5.2928 - val_acc: 0.1574\n",
      "Epoch 9/10\n",
      "7600/7600 [==============================] - 11s 1ms/step - loss: 0.8868 - acc: 0.7087 - val_loss: 1.9449 - val_acc: 0.4079\n",
      "Epoch 10/10\n",
      "7600/7600 [==============================] - 12s 2ms/step - loss: 0.8117 - acc: 0.7316 - val_loss: 2.0806 - val_acc: 0.4132\n"
     ]
    }
   ],
   "source": [
    "from keras.layers import BatchNormalization\n",
    "\n",
    "shah_classifier6 = Sequential()\n",
    "shah_classifier6.add(Conv2D(15, kernel_size=3, activation = 'relu', input_shape = (32,32,1), padding='same'))\n",
    "shah_classifier6.add(BatchNormalization())\n",
    "shah_classifier6.add(Flatten())\n",
    "shah_classifier6.add(Dense(10, activation='softmax'))\n",
    "\n",
    "shah_classifier6.compile(optimizer='adam', loss='categorical_crossentropy', metrics=['accuracy'])\n",
    "\n",
    "shah_stats6 = shah_classifier6.fit(train_input_norm_img, train_output_ohe, epochs=10, validation_split=0.2)"
   ]
  },
  {
   "cell_type": "markdown",
   "metadata": {},
   "source": [
    "<div align = 'right'>\n",
    "    <font size=3, style='font-family:B Nazanin'>\n",
    "        <b>\n",
    "            <br> حالا باید سر فرصت بشینی خروجی این مدل ها رو مقایسه کنی. من الآن برای تو گفتم اینها چی هستند، به چه درد میخورند و چطور اجرا میشوند"
   ]
  },
  {
   "cell_type": "markdown",
   "metadata": {},
   "source": [
    "# A Word of Warning"
   ]
  },
  {
   "cell_type": "markdown",
   "metadata": {},
   "source": [
    "<div align = 'right'>\n",
    "    <font size=3, style='font-family:B Nazanin'>\n",
    "        <b>\n",
    "            <br> بین این دو تا استراتژی رگولاریزیشن، یه دیس هارمونی ای وجود داره و این باعث میشه که دو تا همزمان با هم روی یه \n",
    "            شبکه کار نکنند یعنی اگه دو تا رو با هم اعمال کنی شبکه بدتر میشه\n",
    "            <br> در واقع دراپ اوت پروسه ی لرنینگ رو کند میکنه و بچ نرمالیزیشن سریع و این دو تا گاهی اوقات ممکنه بزنن ویژگی \n",
    "            های خوب همدیگه رو داغون کنند و حالا بیا درستش کن. خلاصه گفتم که حواست باشه"
   ]
  },
  {
   "cell_type": "markdown",
   "metadata": {},
   "source": [
    "# Deciphering The block Box"
   ]
  },
  {
   "cell_type": "markdown",
   "metadata": {},
   "source": [
    "<div align = 'right'>\n",
    "    <font size=3, style='font-family:B Nazanin'>\n",
    "        <b>\n",
    "            <br> خیلی انتقادات به شبکه ی عصبی وارد میشه از این جهت که همه می گن یه بلک باکسه و ما نمی دونیم چطور کار میکنه و \n",
    "            چطور می تونیم به چیزی که نمی تونیم بفهمیم چطور کار می کنه اعتماد کنیم؟\n",
    "            <br> اما خب خیلی تلاش ها توسط محققان این حوزه داره انجام میشه که کمک کنه به قابلیت تفسیر مدل و در آینده خیلی \n",
    "            بیشتر در این مورد خواهیم دید\n",
    "            <br> یکی از جنبه هاش اینه که بیایم ویژوالایز کنیم اتفاقاتی که بعد از هر بخش از مدل داره میفته\n",
    "            <br> الآن میخوام به این بپردازیم که چطور میتونیم یه بخض از مدل رو بگیریم و خروجیش رو ببینیم\n",
    "            <br> با استفاده از این دستور میتونی لایه های موجود رو ببینی و هر کدوم رو که خواستی برای خودت توی یه متغیر جداگانه \n",
    "            ذخیره کنی. در واقع وقتی یه مدل رو بیلد میکنی و کامپایل میکنی، لایه هاش رو در یه اتریبیوت به نام لِیِر ذخیره میکنی و با این دستور می تونی یه لیست از لِیِر آبجکت ها بگیری\n",
    "            "
   ]
  },
  {
   "cell_type": "code",
   "execution_count": 44,
   "metadata": {},
   "outputs": [
    {
     "data": {
      "text/plain": [
       "[<keras.layers.convolutional.Conv2D at 0x52b985db88>,\n",
       " <keras.layers.normalization.BatchNormalization at 0x52b985dc48>,\n",
       " <keras.layers.core.Flatten at 0x52ace90748>,\n",
       " <keras.layers.core.Dense at 0x52b98736c8>]"
      ]
     },
     "execution_count": 44,
     "metadata": {},
     "output_type": "execute_result"
    }
   ],
   "source": [
    "shah_classifier6.layers"
   ]
  },
  {
   "cell_type": "markdown",
   "metadata": {},
   "source": [
    "<div align = 'right'>\n",
    "    <font size=3, style='font-family:B Nazanin'>\n",
    "        <b>\n",
    "            <br> اگه بخوایم به اولین لایه ی کانولوشن نگاه کنیم می تونیم اون رو به این صورت ذخیره کنیم در یه متغیر\n",
    "            \n",
    "            "
   ]
  },
  {
   "cell_type": "code",
   "execution_count": 47,
   "metadata": {},
   "outputs": [],
   "source": [
    "conv_layer_1 = shah_classifier6.layers[0]"
   ]
  },
  {
   "cell_type": "markdown",
   "metadata": {},
   "source": [
    "<div align = 'right'>\n",
    "    <font size=3, style='font-family:B Nazanin'>\n",
    "        <b>\n",
    "            <br> یه متد هست که بهمون کمک میکنه که بتونیم به وزن های این لایه دسترسی داشته باشیم\n",
    "            "
   ]
  },
  {
   "cell_type": "code",
   "execution_count": 48,
   "metadata": {},
   "outputs": [
    {
     "data": {
      "text/plain": [
       "2"
      ]
     },
     "execution_count": 48,
     "metadata": {},
     "output_type": "execute_result"
    }
   ],
   "source": [
    "weights1 = conv_layer_1.get_weights()\n",
    "len(weights1)"
   ]
  },
  {
   "cell_type": "markdown",
   "metadata": {},
   "source": [
    "<div align = 'right'>\n",
    "    <font size=3, style='font-family:B Nazanin'>\n",
    "        <b>\n",
    "            <br> المان اول 15 تا آرایه داره که هر کدوم اعداد کرنل کانولوشن رو میده برای هر نورون یعنی 15 تا کاناولوشن کرنل رو میده که بعد از ترینینگ محاسبه شده اند"
   ]
  },
  {
   "cell_type": "code",
   "execution_count": 49,
   "metadata": {},
   "outputs": [
    {
     "data": {
      "text/plain": [
       "array([[[[ 2.64434874e-01,  8.44078138e-02, -5.38164675e-02,\n",
       "          -2.20860451e-01, -1.67510659e-01,  9.22498852e-02,\n",
       "          -1.26259252e-01,  3.20445225e-02,  1.18522704e-01,\n",
       "           6.52875751e-02, -4.36607487e-02,  2.77573973e-01,\n",
       "          -1.25928968e-01,  1.97323561e-01,  8.77334923e-02]],\n",
       "\n",
       "        [[-3.11453491e-01, -1.10120356e-01, -7.48678297e-02,\n",
       "          -1.38249574e-02, -2.56685186e-02,  2.06938654e-01,\n",
       "           8.07349384e-02, -2.02136263e-01,  1.84257150e-01,\n",
       "          -3.82429076e-04,  8.08908194e-02,  9.12901610e-02,\n",
       "           6.92137750e-03, -2.81542301e-01,  2.62887895e-01]],\n",
       "\n",
       "        [[ 4.30517122e-02, -7.63005987e-02, -9.37894359e-02,\n",
       "          -7.49247521e-02, -1.62532151e-01, -5.33577427e-02,\n",
       "           4.81575839e-02,  1.17909350e-01, -2.73571253e-01,\n",
       "          -2.49033310e-02, -1.06353931e-01,  3.45564514e-01,\n",
       "           7.05142245e-02, -9.00440812e-02,  4.26426440e-01]]],\n",
       "\n",
       "\n",
       "       [[[-1.35214195e-01, -1.12925567e-01, -1.15761152e-02,\n",
       "           1.67514846e-01, -3.41670245e-01,  3.10238868e-01,\n",
       "           1.51110679e-01,  1.44810095e-01, -1.32515267e-01,\n",
       "          -1.08851366e-01, -1.67617306e-01, -2.93255240e-01,\n",
       "          -2.05607966e-01,  3.21956366e-01, -3.51953447e-01]],\n",
       "\n",
       "        [[ 6.94270134e-02,  1.38773143e-01,  9.11829323e-02,\n",
       "           1.29999161e-01, -3.29915017e-01, -1.98171586e-01,\n",
       "           2.05710441e-01,  1.05061799e-01,  1.34375274e-01,\n",
       "          -1.56895831e-01,  7.39351753e-03, -4.20924544e-01,\n",
       "          -1.49505079e-01, -6.17929138e-02, -2.49867409e-01]],\n",
       "\n",
       "        [[ 1.22543521e-01, -1.26140118e-01,  1.53077152e-02,\n",
       "           6.39857724e-02,  2.52797157e-01, -2.39680797e-01,\n",
       "          -2.94620216e-01, -6.56065717e-02,  1.34037137e-01,\n",
       "           1.49289429e-01, -1.01895034e-01, -3.54801834e-01,\n",
       "           8.34051371e-02, -3.77140224e-01, -3.70694585e-02]]],\n",
       "\n",
       "\n",
       "       [[[-1.76499993e-01,  1.54018477e-01, -4.63708416e-02,\n",
       "           5.94772771e-02, -2.00040236e-01,  2.77835459e-01,\n",
       "          -2.83382326e-01, -7.10585341e-02, -3.01692281e-02,\n",
       "           8.53180587e-02, -1.90619990e-01,  1.67284831e-01,\n",
       "          -1.52014732e-01,  2.03301296e-01,  1.45669222e-01]],\n",
       "\n",
       "        [[ 3.35697472e-01, -1.54247373e-01, -1.50519475e-01,\n",
       "          -9.71576348e-02,  2.78130800e-01, -2.81052917e-01,\n",
       "           8.14300850e-02,  1.75877344e-02, -1.58635639e-02,\n",
       "          -3.56149860e-02, -1.96258381e-01,  8.72029439e-02,\n",
       "          -1.89903989e-01,  1.32528484e-01, -3.21265012e-02]],\n",
       "\n",
       "        [[-1.96730033e-01, -9.39771384e-02, -1.18845172e-01,\n",
       "           1.06259938e-02,  4.38779324e-01, -1.19210757e-01,\n",
       "           1.30673856e-01,  4.50231098e-02,  9.75143239e-02,\n",
       "           8.38954076e-02, -1.07051618e-01,  1.24169417e-01,\n",
       "          -1.53805822e-01, -4.51286174e-02, -4.48279262e-01]]]],\n",
       "      dtype=float32)"
      ]
     },
     "execution_count": 49,
     "metadata": {},
     "output_type": "execute_result"
    }
   ],
   "source": [
    "weights1[0]"
   ]
  },
  {
   "cell_type": "code",
   "execution_count": 51,
   "metadata": {},
   "outputs": [
    {
     "data": {
      "text/plain": [
       "(3, 3, 1, 15)"
      ]
     },
     "execution_count": 51,
     "metadata": {},
     "output_type": "execute_result"
    }
   ],
   "source": [
    "weights1[0].shape"
   ]
  },
  {
   "cell_type": "markdown",
   "metadata": {},
   "source": [
    "<div align = 'right'>\n",
    "    <font size=3, style='font-family:B Nazanin'>\n",
    "        <b>\n",
    "            <br> این اعداد چیو نشون میدهند؟ \n",
    "            <br> دو تای اول که سایز کرنل هست\n",
    "            <br> عدد سوم تعداد چنل ها هست. که نشون میده یکی هست چون تصویر گری اسکیل بوده و یه چنل داشته\n",
    "            <br> و عدد آخر هم نشون دهنده ی تعداد کرنل ها در این لایه هست\n",
    "            <br>\n",
    "            <br> المان دوم موجود در این لیست وزن خروجی هر نورون در لایه کانولوشن رو میده"
   ]
  },
  {
   "cell_type": "code",
   "execution_count": 50,
   "metadata": {},
   "outputs": [
    {
     "data": {
      "text/plain": [
       "array([ 0.02357905, -0.01212887, -0.02163944,  0.02641501,  0.00443851,\n",
       "       -0.00037644,  0.01819143,  0.00628777,  0.02237723,  0.01674848,\n",
       "       -0.00599325, -0.00039775, -0.01019046,  0.00010092,  0.00197045],\n",
       "      dtype=float32)"
      ]
     },
     "execution_count": 50,
     "metadata": {},
     "output_type": "execute_result"
    }
   ],
   "source": [
    "weights1[1]"
   ]
  },
  {
   "cell_type": "markdown",
   "metadata": {},
   "source": [
    "<div align = 'right'>\n",
    "    <font size=3, style='font-family:B Nazanin'>\n",
    "        <b>\n",
    "            <br> حالا اگه یه کرنلشو بگیرم می تونم سایزشو ببینم چقدره\n",
    "            <br> یه کرنل رو اینطوری میگیرن"
   ]
  },
  {
   "cell_type": "code",
   "execution_count": 53,
   "metadata": {},
   "outputs": [
    {
     "data": {
      "text/plain": [
       "(3, 3)"
      ]
     },
     "execution_count": 53,
     "metadata": {},
     "output_type": "execute_result"
    }
   ],
   "source": [
    "kernels = weights1[0]\n",
    "kernel_1 = kernels[:,:,0,0]\n",
    "kernel_1.shape"
   ]
  },
  {
   "cell_type": "markdown",
   "metadata": {},
   "source": [
    "<div align = 'right'>\n",
    "    <font size=3, style='font-family:B Nazanin'>\n",
    "        <b>\n",
    "            <br> حالا می تونیم این کرنل رو به تصویر بکشیم"
   ]
  },
  {
   "cell_type": "code",
   "execution_count": 54,
   "metadata": {},
   "outputs": [
    {
     "data": {
      "text/plain": [
       "<matplotlib.image.AxesImage at 0x52a7815808>"
      ]
     },
     "execution_count": 54,
     "metadata": {},
     "output_type": "execute_result"
    },
    {
     "data": {
      "image/png": "[encoded data removed]",
      "text/plain": [
       "<Figure size 432x288 with 1 Axes>"
      ]
     },
     "metadata": {
      "needs_background": "light"
     },
     "output_type": "display_data"
    }
   ],
   "source": [
    "plt.imshow(kernel_1)"
   ]
  },
  {
   "cell_type": "markdown",
   "metadata": {},
   "source": [
    "<div align = 'right'>\n",
    "    <font size=3, style='font-family:B Nazanin'>\n",
    "        <b>\n",
    "            <br> خب حالا اگه بخوایم ببینیم که ای کرنل چه بلایی سر تصویر میاره میتونی برداری چندتا تصویر ورودی ت رو باهاش کانوالو کنی"
   ]
  },
  {
   "cell_type": "code",
   "execution_count": 62,
   "metadata": {},
   "outputs": [],
   "source": [
    "import matplotlib.pyplot as plt\n",
    "import numpy as np\n",
    "import pylab\n",
    "def convolve2d(image, kernel):\n",
    "    # This function which takes an image and a kernel \n",
    "    # and returns the convolution of them\n",
    "    # Args:\n",
    "    #   image: a numpy array of size [image_height, image_width].\n",
    "    #   kernel: a numpy array of size [kernel_height, kernel_width].\n",
    "    # Returns:\n",
    "    #   a numpy array of size [image_height, image_width] (convolution output).\n",
    "    \n",
    "    kernel = np.flipud(np.fliplr(kernel))    # Flip the kernel\n",
    "    output = np.zeros_like(image)            # convolution output\n",
    "    # Add zero padding to the input image\n",
    "    image_padded = np.zeros((image.shape[0] + 2, image.shape[1] + 2))   \n",
    "    image_padded[1:-1, 1:-1] = image\n",
    "    for x in range(image.shape[1]):     # Loop over every pixel of the image\n",
    "        for y in range(image.shape[0]):\n",
    "            # element-wise multiplication of the kernel and the image\n",
    "            output[y,x]=(kernel*image_padded[y:y+3,x:x+3]).sum()        \n",
    "    return output"
   ]
  },
  {
   "cell_type": "code",
   "execution_count": 63,
   "metadata": {},
   "outputs": [],
   "source": [
    "my_test_image = train_input[0].reshape(32,32)\n",
    "filtered_image = convolve2d(my_test_image, kernel_1)"
   ]
  },
  {
   "cell_type": "code",
   "execution_count": 64,
   "metadata": {},
   "outputs": [
    {
     "data": {
      "text/plain": [
       "<matplotlib.image.AxesImage at 0x52a8d73248>"
      ]
     },
     "execution_count": 64,
     "metadata": {},
     "output_type": "execute_result"
    },
    {
     "data": {
      "image/png": "[encoded data removed]",
      "text/plain": [
       "<Figure size 432x288 with 1 Axes>"
      ]
     },
     "metadata": {
      "needs_background": "light"
     },
     "output_type": "display_data"
    }
   ],
   "source": [
    "plt.imshow(filtered_image)"
   ]
  },
  {
   "cell_type": "markdown",
   "metadata": {},
   "source": [
    "<div align = 'right'>\n",
    "    <font size=3, style='font-family:B Nazanin'>\n",
    "        <b>\n",
    "            <br> این طوری هست که این کرنل دنیا رو میبینه\n",
    "            <br> اگه می خوای بیشتر در مورد این داستان ویژوالایز کردن فیچر ها بفهمی، این پیج خیلی پیج خوبیه"
   ]
  },
  {
   "cell_type": "markdown",
   "metadata": {},
   "source": [
    "https://distill.pub/2017/feature-visualization/"
   ]
  },
  {
   "cell_type": "code",
   "execution_count": null,
   "metadata": {},
   "outputs": [],
   "source": []
  }
 ],
 "metadata": {
  "kernelspec": {
   "display_name": "Python 3",
   "language": "python",
   "name": "python3"
  },
  "language_info": {
   "codemirror_mode": {
    "name": "ipython",
    "version": 3
   },
   "file_extension": ".py",
   "mimetype": "text/x-python",
   "name": "python",
   "nbconvert_exporter": "python",
   "pygments_lexer": "ipython3",
   "version": "3.7.5"
  }
 },
 "nbformat": 4,
 "nbformat_minor": 2
}
