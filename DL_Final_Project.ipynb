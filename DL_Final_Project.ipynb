{
 "cells": [
  {
   "cell_type": "markdown",
   "metadata": {},
   "source": [
    "# Deep Learning NoteBook: Chapter 03\n",
    "\n",
    "Author: Shahrokh Abbasi-Rad\n",
    "\n",
    "Date: 18 November 2019\n",
    "\n",
    "Source: An online course on DataCamp Website (Deep Learning in Python)\n",
    "\n",
    "https://www.datacamp.com/home\n",
    "\n",
    "<br>\n",
    "<br>\n",
    "\n",
    "<div align='center'>\n",
    "    <font size=5, color='#003366'>\n",
    "        <b>Final Project</b>\n",
    "    </font>\n",
    "    </div>"
   ]
  },
  {
   "cell_type": "code",
   "execution_count": null,
   "metadata": {},
   "outputs": [],
   "source": []
  }
 ],
 "metadata": {
  "kernelspec": {
   "display_name": "Python 3",
   "language": "python",
   "name": "python3"
  },
  "language_info": {
   "codemirror_mode": {
    "name": "ipython",
    "version": 3
   },
   "file_extension": ".py",
   "mimetype": "text/x-python",
   "name": "python",
   "nbconvert_exporter": "python",
   "pygments_lexer": "ipython3",
   "version": "3.7.1"
  }
 },
 "nbformat": 4,
 "nbformat_minor": 2
}
